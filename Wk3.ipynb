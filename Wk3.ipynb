{
 "cells": [
  {
   "cell_type": "markdown",
   "metadata": {},
   "source": [
    "# Importing required packages"
   ]
  },
  {
   "cell_type": "code",
   "execution_count": 178,
   "metadata": {},
   "outputs": [],
   "source": [
    "import pandas as pd\n",
    "import numpy as np\n",
    "from bs4 import BeautifulSoup\n",
    "import requests"
   ]
  },
  {
   "cell_type": "markdown",
   "metadata": {},
   "source": [
    "# Pulling raw data from web, using beautiful soup to organize"
   ]
  },
  {
   "cell_type": "code",
   "execution_count": 179,
   "metadata": {},
   "outputs": [],
   "source": [
    "wikipedia_link='https://en.wikipedia.org/wiki/List_of_postal_codes_of_Canada:_M'\n",
    "raw_data= requests.get(wikipedia_link).text\n",
    "data = BeautifulSoup(raw_data,'xml')\n"
   ]
  },
  {
   "cell_type": "markdown",
   "metadata": {},
   "source": [
    "# Creating lists using 'for' iteration, 'find', and 'count'"
   ]
  },
  {
   "cell_type": "code",
   "execution_count": 180,
   "metadata": {},
   "outputs": [],
   "source": [
    "#extracting the raw table inside that webpage\n",
    "table = data.find('table')\n",
    "\n",
    "Postcode      = []\n",
    "Borough       = []\n",
    "Neighbourhood = []\n",
    "\n",
    "\n",
    "\n",
    "\n",
    "for tr_cell in table.find_all('tr'):\n",
    "    counter = 1\n",
    "    Postcode_var      = -1\n",
    "    Borough_var       = -1\n",
    "    Neighbourhood_var = -1\n",
    "    \n",
    "    for td_cell in tr_cell.find_all('td'):\n",
    "        if counter == 1: \n",
    "            Postcode_var = td_cell.text\n",
    "            Postcode.append(Postcode_var)\n",
    "        if counter == 2: \n",
    "            Borough_var = td_cell.text\n",
    "            tag_a_Borough = td_cell.find('a')\n",
    "            Borough.append(Borough_var)\n",
    "        if counter == 3: \n",
    "            Neighbourhood_var = str(td_cell.text).strip()\n",
    "            tag_a_Neighbourhood = td_cell.find('a')\n",
    "            Neighbourhood.append(Neighbourhood_var)\n",
    "        counter +=1\n",
    "        \n",
    "\n",
    "        \n",
    "\n",
    "        \n",
    "    \n",
    "    \n",
    "    "
   ]
  },
  {
   "cell_type": "markdown",
   "metadata": {},
   "source": [
    "# Creating unique Postcode list"
   ]
  },
  {
   "cell_type": "code",
   "execution_count": 181,
   "metadata": {},
   "outputs": [
    {
     "name": "stdout",
     "output_type": "stream",
     "text": [
      "Unique Postal codes: 180\n"
     ]
    }
   ],
   "source": [
    "\n",
    "unique_postcode = set(Postcode)\n",
    "print('Unique Postal codes:', len(unique_postcode))\n",
    "Postcode_unique      = []\n",
    "Borough_unique       = []\n",
    "Neighbourhood_unique = []\n",
    "\n",
    "\n",
    "for postcode_unique_element in unique_postcode:\n",
    "    post_var = ''; bor_var = ''; neigh_var = ''; \n",
    "    for postcode_index, postcode_element in enumerate(Postcode):\n",
    "        if postcode_unique_element == postcode_element:\n",
    "            post_var = postcode_element;\n",
    "            bor_var = Borough[postcode_index]\n",
    "            if neigh_var == '': \n",
    "                neigh_var = Neighbourhood[postcode_index]\n",
    "            else:\n",
    "                neigh_var = neigh_var + ',' + Neighbourhood[postcode_index]\n",
    "    Postcode_unique.append(post_var)\n",
    "    Borough_unique.append(bor_var)\n",
    "    Neighbourhood_unique.append(neigh_var)"
   ]
  },
  {
   "cell_type": "markdown",
   "metadata": {},
   "source": [
    "# Creating dictionary and pandas dataframe"
   ]
  },
  {
   "cell_type": "code",
   "execution_count": 182,
   "metadata": {},
   "outputs": [
    {
     "data": {
      "text/plain": [
       "(180, 3)"
      ]
     },
     "execution_count": 182,
     "metadata": {},
     "output_type": "execute_result"
    }
   ],
   "source": [
    "\n",
    "toronto_dict = {'Postcode':Postcode_unique, 'Borough':Borough_unique, 'Neighbourhood':Neighbourhood_unique}\n",
    "df = pd.DataFrame.from_dict(toronto_dict)\n",
    "df.to_csv('toronto_part1.csv')\n",
    "df.shape"
   ]
  },
  {
   "cell_type": "markdown",
   "metadata": {},
   "source": [
    "# Refining dataframe"
   ]
  },
  {
   "cell_type": "code",
   "execution_count": 183,
   "metadata": {},
   "outputs": [],
   "source": [
    "df = df.applymap(lambda x: x.replace('\\n',''))\n",
    "df = df[df['Borough'] != 'Not assigned']"
   ]
  },
  {
   "cell_type": "code",
   "execution_count": 184,
   "metadata": {},
   "outputs": [],
   "source": [
    "df.Neighbourhood = df.Neighbourhood.apply(lambda x: x.replace('/',','))"
   ]
  },
  {
   "cell_type": "code",
   "execution_count": 185,
   "metadata": {},
   "outputs": [
    {
     "data": {
      "text/plain": [
       "(103, 3)"
      ]
     },
     "execution_count": 185,
     "metadata": {},
     "output_type": "execute_result"
    }
   ],
   "source": [
    "df.shape"
   ]
  },
  {
   "cell_type": "code",
   "execution_count": 186,
   "metadata": {},
   "outputs": [
    {
     "data": {
      "text/html": [
       "<div>\n",
       "<style scoped>\n",
       "    .dataframe tbody tr th:only-of-type {\n",
       "        vertical-align: middle;\n",
       "    }\n",
       "\n",
       "    .dataframe tbody tr th {\n",
       "        vertical-align: top;\n",
       "    }\n",
       "\n",
       "    .dataframe thead th {\n",
       "        text-align: right;\n",
       "    }\n",
       "</style>\n",
       "<table border=\"1\" class=\"dataframe\">\n",
       "  <thead>\n",
       "    <tr style=\"text-align: right;\">\n",
       "      <th></th>\n",
       "      <th>Postcode</th>\n",
       "      <th>Borough</th>\n",
       "      <th>Neighbourhood</th>\n",
       "    </tr>\n",
       "  </thead>\n",
       "  <tbody>\n",
       "    <tr>\n",
       "      <td>0</td>\n",
       "      <td>M9N</td>\n",
       "      <td>York</td>\n",
       "      <td>Weston</td>\n",
       "    </tr>\n",
       "    <tr>\n",
       "      <td>4</td>\n",
       "      <td>M1W</td>\n",
       "      <td>Scarborough</td>\n",
       "      <td>Steeles West , L'Amoreaux West</td>\n",
       "    </tr>\n",
       "    <tr>\n",
       "      <td>8</td>\n",
       "      <td>M4E</td>\n",
       "      <td>East Toronto</td>\n",
       "      <td>The Beaches</td>\n",
       "    </tr>\n",
       "    <tr>\n",
       "      <td>9</td>\n",
       "      <td>M5G</td>\n",
       "      <td>Downtown Toronto</td>\n",
       "      <td>Central Bay Street</td>\n",
       "    </tr>\n",
       "    <tr>\n",
       "      <td>10</td>\n",
       "      <td>M6K</td>\n",
       "      <td>West Toronto</td>\n",
       "      <td>Brockton , Parkdale Village , Exhibition Place</td>\n",
       "    </tr>\n",
       "    <tr>\n",
       "      <td>...</td>\n",
       "      <td>...</td>\n",
       "      <td>...</td>\n",
       "      <td>...</td>\n",
       "    </tr>\n",
       "    <tr>\n",
       "      <td>169</td>\n",
       "      <td>M6P</td>\n",
       "      <td>West Toronto</td>\n",
       "      <td>High Park , The Junction South</td>\n",
       "    </tr>\n",
       "    <tr>\n",
       "      <td>171</td>\n",
       "      <td>M7Y</td>\n",
       "      <td>East Toronto</td>\n",
       "      <td>Business reply mail Processing CentrE</td>\n",
       "    </tr>\n",
       "    <tr>\n",
       "      <td>173</td>\n",
       "      <td>M5V</td>\n",
       "      <td>Downtown Toronto</td>\n",
       "      <td>CN Tower , King and Spadina , Railway Lands , ...</td>\n",
       "    </tr>\n",
       "    <tr>\n",
       "      <td>177</td>\n",
       "      <td>M3H</td>\n",
       "      <td>North York</td>\n",
       "      <td>Bathurst Manor , Wilson Heights , Downsview North</td>\n",
       "    </tr>\n",
       "    <tr>\n",
       "      <td>179</td>\n",
       "      <td>M1M</td>\n",
       "      <td>Scarborough</td>\n",
       "      <td>Cliffside , Cliffcrest , Scarborough Village West</td>\n",
       "    </tr>\n",
       "  </tbody>\n",
       "</table>\n",
       "<p>103 rows × 3 columns</p>\n",
       "</div>"
      ],
      "text/plain": [
       "    Postcode           Borough  \\\n",
       "0        M9N              York   \n",
       "4        M1W       Scarborough   \n",
       "8        M4E      East Toronto   \n",
       "9        M5G  Downtown Toronto   \n",
       "10       M6K      West Toronto   \n",
       "..       ...               ...   \n",
       "169      M6P      West Toronto   \n",
       "171      M7Y      East Toronto   \n",
       "173      M5V  Downtown Toronto   \n",
       "177      M3H        North York   \n",
       "179      M1M       Scarborough   \n",
       "\n",
       "                                         Neighbourhood  \n",
       "0                                               Weston  \n",
       "4                       Steeles West , L'Amoreaux West  \n",
       "8                                          The Beaches  \n",
       "9                                   Central Bay Street  \n",
       "10      Brockton , Parkdale Village , Exhibition Place  \n",
       "..                                                 ...  \n",
       "169                     High Park , The Junction South  \n",
       "171              Business reply mail Processing CentrE  \n",
       "173  CN Tower , King and Spadina , Railway Lands , ...  \n",
       "177  Bathurst Manor , Wilson Heights , Downsview North  \n",
       "179  Cliffside , Cliffcrest , Scarborough Village West  \n",
       "\n",
       "[103 rows x 3 columns]"
      ]
     },
     "execution_count": 186,
     "metadata": {},
     "output_type": "execute_result"
    }
   ],
   "source": [
    "df"
   ]
  },
  {
   "cell_type": "markdown",
   "metadata": {},
   "source": [
    "# Downloading Latitude and Longitude csv"
   ]
  },
  {
   "cell_type": "code",
   "execution_count": 187,
   "metadata": {},
   "outputs": [
    {
     "data": {
      "text/plain": [
       "'Geospatial_Coordinates (2).csv'"
      ]
     },
     "execution_count": 187,
     "metadata": {},
     "output_type": "execute_result"
    }
   ],
   "source": [
    "import wget\n",
    "wget.download('http://cocl.us/Geospatial_data')"
   ]
  },
  {
   "cell_type": "markdown",
   "metadata": {},
   "source": [
    "# Reading CSV"
   ]
  },
  {
   "cell_type": "code",
   "execution_count": 188,
   "metadata": {},
   "outputs": [
    {
     "data": {
      "text/html": [
       "<div>\n",
       "<style scoped>\n",
       "    .dataframe tbody tr th:only-of-type {\n",
       "        vertical-align: middle;\n",
       "    }\n",
       "\n",
       "    .dataframe tbody tr th {\n",
       "        vertical-align: top;\n",
       "    }\n",
       "\n",
       "    .dataframe thead th {\n",
       "        text-align: right;\n",
       "    }\n",
       "</style>\n",
       "<table border=\"1\" class=\"dataframe\">\n",
       "  <thead>\n",
       "    <tr style=\"text-align: right;\">\n",
       "      <th></th>\n",
       "      <th>Postal Code</th>\n",
       "      <th>Latitude</th>\n",
       "      <th>Longitude</th>\n",
       "    </tr>\n",
       "  </thead>\n",
       "  <tbody>\n",
       "    <tr>\n",
       "      <td>0</td>\n",
       "      <td>M1B</td>\n",
       "      <td>43.806686</td>\n",
       "      <td>-79.194353</td>\n",
       "    </tr>\n",
       "    <tr>\n",
       "      <td>1</td>\n",
       "      <td>M1C</td>\n",
       "      <td>43.784535</td>\n",
       "      <td>-79.160497</td>\n",
       "    </tr>\n",
       "    <tr>\n",
       "      <td>2</td>\n",
       "      <td>M1E</td>\n",
       "      <td>43.763573</td>\n",
       "      <td>-79.188711</td>\n",
       "    </tr>\n",
       "    <tr>\n",
       "      <td>3</td>\n",
       "      <td>M1G</td>\n",
       "      <td>43.770992</td>\n",
       "      <td>-79.216917</td>\n",
       "    </tr>\n",
       "    <tr>\n",
       "      <td>4</td>\n",
       "      <td>M1H</td>\n",
       "      <td>43.773136</td>\n",
       "      <td>-79.239476</td>\n",
       "    </tr>\n",
       "  </tbody>\n",
       "</table>\n",
       "</div>"
      ],
      "text/plain": [
       "  Postal Code   Latitude  Longitude\n",
       "0         M1B  43.806686 -79.194353\n",
       "1         M1C  43.784535 -79.160497\n",
       "2         M1E  43.763573 -79.188711\n",
       "3         M1G  43.770992 -79.216917\n",
       "4         M1H  43.773136 -79.239476"
      ]
     },
     "execution_count": 188,
     "metadata": {},
     "output_type": "execute_result"
    }
   ],
   "source": [
    "lat_lon = pd.read_csv('Geospatial_Coordinates.csv')\n",
    "lat_lon.head()"
   ]
  },
  {
   "cell_type": "markdown",
   "metadata": {},
   "source": [
    "# Merging Latitude and Longitude with original DF"
   ]
  },
  {
   "cell_type": "code",
   "execution_count": 189,
   "metadata": {},
   "outputs": [],
   "source": [
    "df = pd.merge(df,lat_lon, how = 'left', left_on ='Postcode', right_on = 'Postal Code', validate = '1:1')\n"
   ]
  },
  {
   "cell_type": "code",
   "execution_count": 190,
   "metadata": {},
   "outputs": [
    {
     "data": {
      "text/html": [
       "<div>\n",
       "<style scoped>\n",
       "    .dataframe tbody tr th:only-of-type {\n",
       "        vertical-align: middle;\n",
       "    }\n",
       "\n",
       "    .dataframe tbody tr th {\n",
       "        vertical-align: top;\n",
       "    }\n",
       "\n",
       "    .dataframe thead th {\n",
       "        text-align: right;\n",
       "    }\n",
       "</style>\n",
       "<table border=\"1\" class=\"dataframe\">\n",
       "  <thead>\n",
       "    <tr style=\"text-align: right;\">\n",
       "      <th></th>\n",
       "      <th>Postcode</th>\n",
       "      <th>Borough</th>\n",
       "      <th>Neighbourhood</th>\n",
       "      <th>Latitude</th>\n",
       "      <th>Longitude</th>\n",
       "    </tr>\n",
       "  </thead>\n",
       "  <tbody>\n",
       "    <tr>\n",
       "      <td>0</td>\n",
       "      <td>M9N</td>\n",
       "      <td>York</td>\n",
       "      <td>Weston</td>\n",
       "      <td>43.706876</td>\n",
       "      <td>-79.518188</td>\n",
       "    </tr>\n",
       "    <tr>\n",
       "      <td>1</td>\n",
       "      <td>M1W</td>\n",
       "      <td>Scarborough</td>\n",
       "      <td>Steeles West , L'Amoreaux West</td>\n",
       "      <td>43.799525</td>\n",
       "      <td>-79.318389</td>\n",
       "    </tr>\n",
       "    <tr>\n",
       "      <td>2</td>\n",
       "      <td>M4E</td>\n",
       "      <td>East Toronto</td>\n",
       "      <td>The Beaches</td>\n",
       "      <td>43.676357</td>\n",
       "      <td>-79.293031</td>\n",
       "    </tr>\n",
       "    <tr>\n",
       "      <td>3</td>\n",
       "      <td>M5G</td>\n",
       "      <td>Downtown Toronto</td>\n",
       "      <td>Central Bay Street</td>\n",
       "      <td>43.657952</td>\n",
       "      <td>-79.387383</td>\n",
       "    </tr>\n",
       "    <tr>\n",
       "      <td>4</td>\n",
       "      <td>M6K</td>\n",
       "      <td>West Toronto</td>\n",
       "      <td>Brockton , Parkdale Village , Exhibition Place</td>\n",
       "      <td>43.636847</td>\n",
       "      <td>-79.428191</td>\n",
       "    </tr>\n",
       "  </tbody>\n",
       "</table>\n",
       "</div>"
      ],
      "text/plain": [
       "  Postcode           Borough                                   Neighbourhood  \\\n",
       "0      M9N              York                                          Weston   \n",
       "1      M1W       Scarborough                  Steeles West , L'Amoreaux West   \n",
       "2      M4E      East Toronto                                     The Beaches   \n",
       "3      M5G  Downtown Toronto                              Central Bay Street   \n",
       "4      M6K      West Toronto  Brockton , Parkdale Village , Exhibition Place   \n",
       "\n",
       "    Latitude  Longitude  \n",
       "0  43.706876 -79.518188  \n",
       "1  43.799525 -79.318389  \n",
       "2  43.676357 -79.293031  \n",
       "3  43.657952 -79.387383  \n",
       "4  43.636847 -79.428191  "
      ]
     },
     "execution_count": 190,
     "metadata": {},
     "output_type": "execute_result"
    }
   ],
   "source": [
    "df = df.drop('Postal Code', axis = 1)\n",
    "df.head()"
   ]
  },
  {
   "cell_type": "markdown",
   "metadata": {},
   "source": [
    "# Downloading Folium"
   ]
  },
  {
   "cell_type": "code",
   "execution_count": 191,
   "metadata": {},
   "outputs": [
    {
     "name": "stdout",
     "output_type": "stream",
     "text": [
      "Collecting package metadata (current_repodata.json): ...working... done\n",
      "Solving environment: ...working... done\n",
      "\n",
      "# All requested packages already installed.\n",
      "\n"
     ]
    }
   ],
   "source": [
    "!conda install -c conda-forge folium=0.5.0 --yes"
   ]
  },
  {
   "cell_type": "markdown",
   "metadata": {},
   "source": [
    "# Retrieving general Toronto coordinates"
   ]
  },
  {
   "cell_type": "code",
   "execution_count": 192,
   "metadata": {},
   "outputs": [
    {
     "name": "stdout",
     "output_type": "stream",
     "text": [
      "The geograpical coordinate of Toronto are 43.6534817, -79.3839347.\n"
     ]
    }
   ],
   "source": [
    "from geopy.geocoders import Nominatim\n",
    "\n",
    "address = 'Toronto, Canada'\n",
    "\n",
    "geolocator = Nominatim(user_agent=\"pete\")\n",
    "location = geolocator.geocode(address)\n",
    "latitude = location.latitude\n",
    "longitude = location.longitude\n",
    "print('The geograpical coordinate of Toronto are {}, {}.'.format(latitude, longitude))"
   ]
  },
  {
   "cell_type": "markdown",
   "metadata": {},
   "source": [
    "# Generating non-clustered map"
   ]
  },
  {
   "cell_type": "code",
   "execution_count": 198,
   "metadata": {},
   "outputs": [
    {
     "data": {
      "text/html": [
       "<div style=\"width:100%;\"><div style=\"position:relative;width:100%;height:0;padding-bottom:60%;\"><iframe src=\"about:blank\" style=\"position:absolute;width:100%;height:100%;left:0;top:0;border:none !important;\" data-html=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 onload=\"this.contentDocument.open();this.contentDocument.write(atob(this.getAttribute('data-html')));this.contentDocument.close();\" allowfullscreen webkitallowfullscreen mozallowfullscreen></iframe></div></div>"
      ],
      "text/plain": [
       "<folium.folium.Map at 0x2445f294548>"
      ]
     },
     "execution_count": 198,
     "metadata": {},
     "output_type": "execute_result"
    }
   ],
   "source": [
    "import folium\n",
    "\n",
    "\n",
    "map_toronto = folium.Map(location=[latitude, longitude], zoom_start=10)\n",
    "\n",
    "\n",
    "for lat, lng, borough, neighborhood in zip(df['Latitude'], df['Longitude'], df['Borough'], df['Neighbourhood']):\n",
    "    label = '{}, {}'.format(neighborhood, borough)\n",
    "    label = folium.Popup(label, parse_html=True)\n",
    "    folium.CircleMarker(\n",
    "        [lat, lng],\n",
    "        radius=5,\n",
    "        popup=label,\n",
    "        color='blue',\n",
    "        fill=True,\n",
    "        fill_color='#3186cc',\n",
    "        fill_opacity=0.7,\n",
    "        parse_html=False).add_to(map_toronto)  \n",
    "    \n",
    "map_toronto"
   ]
  },
  {
   "cell_type": "markdown",
   "metadata": {},
   "source": [
    "# Enabling foursquare API"
   ]
  },
  {
   "cell_type": "code",
   "execution_count": 201,
   "metadata": {},
   "outputs": [
    {
     "name": "stdout",
     "output_type": "stream",
     "text": [
      "Your credentails:\n",
      "CLIENT_ID: CCBMXEF4ITVUNF0RDKXYHAMX5F55TLG3DCMYIE3DH44AQBCY\n",
      "CLIENT_SECRET:UXRV1ZBEKD1DCQZIZIDC3L1YMHNNWQIVZC4XVISBTKKZAKTW\n"
     ]
    }
   ],
   "source": [
    "CLIENT_ID = 'CCBMXEF4ITVUNFRDKXYHAMX5F55TLG3DCMYIE3DH44AQBCY' # your Foursquare ID\n",
    "CLIENT_SECRET = 'UXRV1ZBEK1DCQZIZIDC3L1YMHNNWQIVZC4XVISBTKKZAKTW' # your Foursquare Secret\n",
    "VERSION = '20180604'\n",
    "LIMIT = 30\n",
    "print('Your credentails:')\n",
    "print('CLIENT_ID: ' + CLIENT_ID)\n",
    "print('CLIENT_SECRET:' + CLIENT_SECRET)"
   ]
  },
  {
   "cell_type": "markdown",
   "metadata": {},
   "source": [
    "# Creating function to call all Postcodes"
   ]
  },
  {
   "cell_type": "markdown",
   "metadata": {},
   "source": [
    "### I used postcodes instead of Neighborhood because of duplicate names in original dataset, Postcodes were all unique"
   ]
  },
  {
   "cell_type": "code",
   "execution_count": 202,
   "metadata": {},
   "outputs": [],
   "source": [
    "def getNearbyVenues(names, latitudes, longitudes, radius=500):\n",
    "    \n",
    "    venues_list=[]\n",
    "    for name, lat, lng in zip(names, latitudes, longitudes):\n",
    "        print(name)\n",
    "            \n",
    "        # create the API request URL\n",
    "        url = 'https://api.foursquare.com/v2/venues/explore?&client_id={}&client_secret={}&v={}&ll={},{}&radius={}&limit={}'.format(\n",
    "            CLIENT_ID, \n",
    "            CLIENT_SECRET, \n",
    "            VERSION, \n",
    "            lat, \n",
    "            lng, \n",
    "            radius, \n",
    "            LIMIT)\n",
    "            \n",
    "        # make the GET request\n",
    "        results = requests.get(url).json()[\"response\"]['groups'][0]['items']\n",
    "        \n",
    "        # return only relevant information for each nearby venue\n",
    "        venues_list.append([(\n",
    "            name, \n",
    "            lat, \n",
    "            lng, \n",
    "            v['venue']['name'], \n",
    "            v['venue']['location']['lat'], \n",
    "            v['venue']['location']['lng'],  \n",
    "            v['venue']['categories'][0]['name']) for v in results])\n",
    "\n",
    "    nearby_venues = pd.DataFrame([item for venue_list in venues_list for item in venue_list])\n",
    "    nearby_venues.columns = ['Neighborhood', \n",
    "                  'Neighborhood Latitude', \n",
    "                  'Neighborhood Longitude', \n",
    "                  'Venue', \n",
    "                  'Venue Latitude', \n",
    "                  'Venue Longitude', \n",
    "                  'Venue Category']\n",
    "    \n",
    "    return(nearby_venues)"
   ]
  },
  {
   "cell_type": "markdown",
   "metadata": {},
   "source": [
    "# API request"
   ]
  },
  {
   "cell_type": "code",
   "execution_count": 226,
   "metadata": {},
   "outputs": [
    {
     "name": "stdout",
     "output_type": "stream",
     "text": [
      "M9N\n",
      "M1W\n",
      "M4E\n",
      "M5G\n",
      "M6K\n",
      "M3L\n",
      "M4R\n",
      "M4S\n",
      "M7A\n",
      "M1J\n",
      "M5M\n",
      "M5L\n",
      "M7R\n",
      "M4T\n",
      "M4A\n",
      "M6J\n",
      "M9B\n",
      "M1C\n",
      "M2H\n",
      "M5T\n",
      "M4M\n",
      "M2J\n",
      "M1B\n",
      "M5E\n",
      "M5A\n",
      "M5P\n",
      "M4G\n",
      "M8Z\n",
      "M2R\n",
      "M6G\n",
      "M9V\n",
      "M5H\n",
      "M9P\n",
      "M1G\n",
      "M3B\n",
      "M6R\n",
      "M6M\n",
      "M1K\n",
      "M3A\n",
      "M1S\n",
      "M9R\n",
      "M1X\n",
      "M5K\n",
      "M2N\n",
      "M4J\n",
      "M3C\n",
      "M9C\n",
      "M6A\n",
      "M6S\n",
      "M5J\n",
      "M1V\n",
      "M2M\n",
      "M4L\n",
      "M1T\n",
      "M3N\n",
      "M4B\n",
      "M3J\n",
      "M6L\n",
      "M2P\n",
      "M4H\n",
      "M2L\n",
      "M1P\n",
      "M5R\n",
      "M1L\n",
      "M1R\n",
      "M3M\n",
      "M9L\n",
      "M5C\n",
      "M4V\n",
      "M5B\n",
      "M6H\n",
      "M8V\n",
      "M5W\n",
      "M5N\n",
      "M4N\n",
      "M5S\n",
      "M3K\n",
      "M4W\n",
      "M4K\n",
      "M4Y\n",
      "M1E\n",
      "M9W\n",
      "M8Y\n",
      "M9M\n",
      "M8X\n",
      "M8W\n",
      "M6C\n",
      "M1H\n",
      "M2K\n",
      "M4P\n",
      "M4C\n",
      "M4X\n",
      "M5X\n",
      "M6N\n",
      "M6B\n",
      "M9A\n",
      "M1N\n",
      "M6E\n",
      "M6P\n",
      "M7Y\n",
      "M5V\n",
      "M3H\n",
      "M1M\n"
     ]
    }
   ],
   "source": [
    "# type your answer here\n",
    "\n",
    "toronto_venues = getNearbyVenues(names= df['Postcode'],\n",
    "                                   latitudes= df['Latitude'],\n",
    "                                   longitudes= df['Longitude']\n",
    "                                  )\n",
    "\n"
   ]
  },
  {
   "cell_type": "markdown",
   "metadata": {},
   "source": [
    "### it should be noted that the API could not pull 3 of the Lat, Lon for unique Postcodes - so the columns have been reduced by 3"
   ]
  },
  {
   "cell_type": "code",
   "execution_count": 242,
   "metadata": {},
   "outputs": [
    {
     "data": {
      "text/plain": [
       "(100,)"
      ]
     },
     "execution_count": 242,
     "metadata": {},
     "output_type": "execute_result"
    }
   ],
   "source": [
    "toronto_venues.Neighborhood.unique().shape"
   ]
  },
  {
   "cell_type": "markdown",
   "metadata": {},
   "source": [
    "### Unique venues"
   ]
  },
  {
   "cell_type": "code",
   "execution_count": 229,
   "metadata": {},
   "outputs": [
    {
     "name": "stdout",
     "output_type": "stream",
     "text": [
      "There are 228 uniques categories.\n"
     ]
    }
   ],
   "source": [
    "print('There are {} uniques categories.'.format(len(toronto_venues['Venue Category'].unique())))"
   ]
  },
  {
   "cell_type": "markdown",
   "metadata": {},
   "source": [
    "# Creating numerical dataset for KMeans clustering"
   ]
  },
  {
   "cell_type": "code",
   "execution_count": 244,
   "metadata": {},
   "outputs": [
    {
     "data": {
      "text/plain": [
       "(1345, 229)"
      ]
     },
     "execution_count": 244,
     "metadata": {},
     "output_type": "execute_result"
    }
   ],
   "source": [
    "\n",
    "toronto_onehot = pd.get_dummies(toronto_venues[['Venue Category']], prefix=\"\", prefix_sep=\"\")\n",
    "\n",
    "\n",
    "toronto_onehot['Postcode'] = toronto_venues['Neighborhood'] \n",
    "\n",
    "\n",
    "toronto_onehot.shape"
   ]
  },
  {
   "cell_type": "code",
   "execution_count": 245,
   "metadata": {},
   "outputs": [],
   "source": [
    "toronto_grouped = toronto_onehot.groupby('Postcode').mean().reset_index()"
   ]
  },
  {
   "cell_type": "code",
   "execution_count": 246,
   "metadata": {},
   "outputs": [
    {
     "data": {
      "text/html": [
       "<div>\n",
       "<style scoped>\n",
       "    .dataframe tbody tr th:only-of-type {\n",
       "        vertical-align: middle;\n",
       "    }\n",
       "\n",
       "    .dataframe tbody tr th {\n",
       "        vertical-align: top;\n",
       "    }\n",
       "\n",
       "    .dataframe thead th {\n",
       "        text-align: right;\n",
       "    }\n",
       "</style>\n",
       "<table border=\"1\" class=\"dataframe\">\n",
       "  <thead>\n",
       "    <tr style=\"text-align: right;\">\n",
       "      <th></th>\n",
       "      <th>Postcode</th>\n",
       "      <th>Accessories Store</th>\n",
       "      <th>Airport</th>\n",
       "      <th>Airport Food Court</th>\n",
       "      <th>Airport Gate</th>\n",
       "      <th>Airport Lounge</th>\n",
       "      <th>Airport Service</th>\n",
       "      <th>Airport Terminal</th>\n",
       "      <th>American Restaurant</th>\n",
       "      <th>Aquarium</th>\n",
       "      <th>...</th>\n",
       "      <th>Train Station</th>\n",
       "      <th>Vegetarian / Vegan Restaurant</th>\n",
       "      <th>Video Game Store</th>\n",
       "      <th>Video Store</th>\n",
       "      <th>Vietnamese Restaurant</th>\n",
       "      <th>Warehouse Store</th>\n",
       "      <th>Wine Bar</th>\n",
       "      <th>Wings Joint</th>\n",
       "      <th>Women's Store</th>\n",
       "      <th>Yoga Studio</th>\n",
       "    </tr>\n",
       "  </thead>\n",
       "  <tbody>\n",
       "    <tr>\n",
       "      <td>0</td>\n",
       "      <td>M1B</td>\n",
       "      <td>0.0</td>\n",
       "      <td>0.0</td>\n",
       "      <td>0.0</td>\n",
       "      <td>0.0</td>\n",
       "      <td>0.0</td>\n",
       "      <td>0.0</td>\n",
       "      <td>0.0</td>\n",
       "      <td>0.0</td>\n",
       "      <td>0.0</td>\n",
       "      <td>...</td>\n",
       "      <td>0.0</td>\n",
       "      <td>0.0</td>\n",
       "      <td>0.0</td>\n",
       "      <td>0.0</td>\n",
       "      <td>0.0</td>\n",
       "      <td>0.0</td>\n",
       "      <td>0.0</td>\n",
       "      <td>0.0</td>\n",
       "      <td>0.0</td>\n",
       "      <td>0.0</td>\n",
       "    </tr>\n",
       "    <tr>\n",
       "      <td>1</td>\n",
       "      <td>M1C</td>\n",
       "      <td>0.0</td>\n",
       "      <td>0.0</td>\n",
       "      <td>0.0</td>\n",
       "      <td>0.0</td>\n",
       "      <td>0.0</td>\n",
       "      <td>0.0</td>\n",
       "      <td>0.0</td>\n",
       "      <td>0.0</td>\n",
       "      <td>0.0</td>\n",
       "      <td>...</td>\n",
       "      <td>0.0</td>\n",
       "      <td>0.0</td>\n",
       "      <td>0.0</td>\n",
       "      <td>0.0</td>\n",
       "      <td>0.0</td>\n",
       "      <td>0.0</td>\n",
       "      <td>0.0</td>\n",
       "      <td>0.0</td>\n",
       "      <td>0.0</td>\n",
       "      <td>0.0</td>\n",
       "    </tr>\n",
       "    <tr>\n",
       "      <td>2</td>\n",
       "      <td>M1E</td>\n",
       "      <td>0.0</td>\n",
       "      <td>0.0</td>\n",
       "      <td>0.0</td>\n",
       "      <td>0.0</td>\n",
       "      <td>0.0</td>\n",
       "      <td>0.0</td>\n",
       "      <td>0.0</td>\n",
       "      <td>0.0</td>\n",
       "      <td>0.0</td>\n",
       "      <td>...</td>\n",
       "      <td>0.0</td>\n",
       "      <td>0.0</td>\n",
       "      <td>0.0</td>\n",
       "      <td>0.0</td>\n",
       "      <td>0.0</td>\n",
       "      <td>0.0</td>\n",
       "      <td>0.0</td>\n",
       "      <td>0.0</td>\n",
       "      <td>0.0</td>\n",
       "      <td>0.0</td>\n",
       "    </tr>\n",
       "    <tr>\n",
       "      <td>3</td>\n",
       "      <td>M1G</td>\n",
       "      <td>0.0</td>\n",
       "      <td>0.0</td>\n",
       "      <td>0.0</td>\n",
       "      <td>0.0</td>\n",
       "      <td>0.0</td>\n",
       "      <td>0.0</td>\n",
       "      <td>0.0</td>\n",
       "      <td>0.0</td>\n",
       "      <td>0.0</td>\n",
       "      <td>...</td>\n",
       "      <td>0.0</td>\n",
       "      <td>0.0</td>\n",
       "      <td>0.0</td>\n",
       "      <td>0.0</td>\n",
       "      <td>0.0</td>\n",
       "      <td>0.0</td>\n",
       "      <td>0.0</td>\n",
       "      <td>0.0</td>\n",
       "      <td>0.0</td>\n",
       "      <td>0.0</td>\n",
       "    </tr>\n",
       "    <tr>\n",
       "      <td>4</td>\n",
       "      <td>M1H</td>\n",
       "      <td>0.0</td>\n",
       "      <td>0.0</td>\n",
       "      <td>0.0</td>\n",
       "      <td>0.0</td>\n",
       "      <td>0.0</td>\n",
       "      <td>0.0</td>\n",
       "      <td>0.0</td>\n",
       "      <td>0.0</td>\n",
       "      <td>0.0</td>\n",
       "      <td>...</td>\n",
       "      <td>0.0</td>\n",
       "      <td>0.0</td>\n",
       "      <td>0.0</td>\n",
       "      <td>0.0</td>\n",
       "      <td>0.0</td>\n",
       "      <td>0.0</td>\n",
       "      <td>0.0</td>\n",
       "      <td>0.0</td>\n",
       "      <td>0.0</td>\n",
       "      <td>0.0</td>\n",
       "    </tr>\n",
       "  </tbody>\n",
       "</table>\n",
       "<p>5 rows × 229 columns</p>\n",
       "</div>"
      ],
      "text/plain": [
       "  Postcode  Accessories Store  Airport  Airport Food Court  Airport Gate  \\\n",
       "0      M1B                0.0      0.0                 0.0           0.0   \n",
       "1      M1C                0.0      0.0                 0.0           0.0   \n",
       "2      M1E                0.0      0.0                 0.0           0.0   \n",
       "3      M1G                0.0      0.0                 0.0           0.0   \n",
       "4      M1H                0.0      0.0                 0.0           0.0   \n",
       "\n",
       "   Airport Lounge  Airport Service  Airport Terminal  American Restaurant  \\\n",
       "0             0.0              0.0               0.0                  0.0   \n",
       "1             0.0              0.0               0.0                  0.0   \n",
       "2             0.0              0.0               0.0                  0.0   \n",
       "3             0.0              0.0               0.0                  0.0   \n",
       "4             0.0              0.0               0.0                  0.0   \n",
       "\n",
       "   Aquarium  ...  Train Station  Vegetarian / Vegan Restaurant  \\\n",
       "0       0.0  ...            0.0                            0.0   \n",
       "1       0.0  ...            0.0                            0.0   \n",
       "2       0.0  ...            0.0                            0.0   \n",
       "3       0.0  ...            0.0                            0.0   \n",
       "4       0.0  ...            0.0                            0.0   \n",
       "\n",
       "   Video Game Store  Video Store  Vietnamese Restaurant  Warehouse Store  \\\n",
       "0               0.0          0.0                    0.0              0.0   \n",
       "1               0.0          0.0                    0.0              0.0   \n",
       "2               0.0          0.0                    0.0              0.0   \n",
       "3               0.0          0.0                    0.0              0.0   \n",
       "4               0.0          0.0                    0.0              0.0   \n",
       "\n",
       "   Wine Bar  Wings Joint  Women's Store  Yoga Studio  \n",
       "0       0.0          0.0            0.0          0.0  \n",
       "1       0.0          0.0            0.0          0.0  \n",
       "2       0.0          0.0            0.0          0.0  \n",
       "3       0.0          0.0            0.0          0.0  \n",
       "4       0.0          0.0            0.0          0.0  \n",
       "\n",
       "[5 rows x 229 columns]"
      ]
     },
     "execution_count": 246,
     "metadata": {},
     "output_type": "execute_result"
    }
   ],
   "source": [
    "toronto_grouped.head()"
   ]
  },
  {
   "cell_type": "markdown",
   "metadata": {},
   "source": [
    "# Creating function for sorting top venues"
   ]
  },
  {
   "cell_type": "code",
   "execution_count": 248,
   "metadata": {},
   "outputs": [],
   "source": [
    "def return_most_common_venues(row, num_top_venues):\n",
    "    row_categories = row.iloc[1:]\n",
    "    row_categories_sorted = row_categories.sort_values(ascending=False)\n",
    "    \n",
    "    return row_categories_sorted.index.values[0:num_top_venues]"
   ]
  },
  {
   "cell_type": "code",
   "execution_count": 249,
   "metadata": {},
   "outputs": [
    {
     "data": {
      "text/html": [
       "<div>\n",
       "<style scoped>\n",
       "    .dataframe tbody tr th:only-of-type {\n",
       "        vertical-align: middle;\n",
       "    }\n",
       "\n",
       "    .dataframe tbody tr th {\n",
       "        vertical-align: top;\n",
       "    }\n",
       "\n",
       "    .dataframe thead th {\n",
       "        text-align: right;\n",
       "    }\n",
       "</style>\n",
       "<table border=\"1\" class=\"dataframe\">\n",
       "  <thead>\n",
       "    <tr style=\"text-align: right;\">\n",
       "      <th></th>\n",
       "      <th>Postcode</th>\n",
       "      <th>1st Most Common Venue</th>\n",
       "      <th>2nd Most Common Venue</th>\n",
       "      <th>3rd Most Common Venue</th>\n",
       "      <th>4th Most Common Venue</th>\n",
       "      <th>5th Most Common Venue</th>\n",
       "      <th>6th Most Common Venue</th>\n",
       "      <th>7th Most Common Venue</th>\n",
       "      <th>8th Most Common Venue</th>\n",
       "      <th>9th Most Common Venue</th>\n",
       "      <th>10th Most Common Venue</th>\n",
       "    </tr>\n",
       "  </thead>\n",
       "  <tbody>\n",
       "    <tr>\n",
       "      <td>0</td>\n",
       "      <td>M1B</td>\n",
       "      <td>Fast Food Restaurant</td>\n",
       "      <td>Yoga Studio</td>\n",
       "      <td>Dance Studio</td>\n",
       "      <td>Eastern European Restaurant</td>\n",
       "      <td>Drugstore</td>\n",
       "      <td>Donut Shop</td>\n",
       "      <td>Dog Run</td>\n",
       "      <td>Distribution Center</td>\n",
       "      <td>Discount Store</td>\n",
       "      <td>Diner</td>\n",
       "    </tr>\n",
       "    <tr>\n",
       "      <td>1</td>\n",
       "      <td>M1C</td>\n",
       "      <td>Bar</td>\n",
       "      <td>History Museum</td>\n",
       "      <td>Yoga Studio</td>\n",
       "      <td>Dance Studio</td>\n",
       "      <td>Eastern European Restaurant</td>\n",
       "      <td>Drugstore</td>\n",
       "      <td>Donut Shop</td>\n",
       "      <td>Dog Run</td>\n",
       "      <td>Distribution Center</td>\n",
       "      <td>Discount Store</td>\n",
       "    </tr>\n",
       "    <tr>\n",
       "      <td>2</td>\n",
       "      <td>M1E</td>\n",
       "      <td>Electronics Store</td>\n",
       "      <td>Breakfast Spot</td>\n",
       "      <td>Intersection</td>\n",
       "      <td>Bank</td>\n",
       "      <td>Mexican Restaurant</td>\n",
       "      <td>Rental Car Location</td>\n",
       "      <td>Medical Center</td>\n",
       "      <td>Department Store</td>\n",
       "      <td>Drugstore</td>\n",
       "      <td>Donut Shop</td>\n",
       "    </tr>\n",
       "    <tr>\n",
       "      <td>3</td>\n",
       "      <td>M1G</td>\n",
       "      <td>Coffee Shop</td>\n",
       "      <td>Insurance Office</td>\n",
       "      <td>Korean Restaurant</td>\n",
       "      <td>Deli / Bodega</td>\n",
       "      <td>Electronics Store</td>\n",
       "      <td>Eastern European Restaurant</td>\n",
       "      <td>Drugstore</td>\n",
       "      <td>Donut Shop</td>\n",
       "      <td>Dog Run</td>\n",
       "      <td>Distribution Center</td>\n",
       "    </tr>\n",
       "    <tr>\n",
       "      <td>4</td>\n",
       "      <td>M1H</td>\n",
       "      <td>Bakery</td>\n",
       "      <td>Bank</td>\n",
       "      <td>Athletics &amp; Sports</td>\n",
       "      <td>Thai Restaurant</td>\n",
       "      <td>Gas Station</td>\n",
       "      <td>Hakka Restaurant</td>\n",
       "      <td>Fried Chicken Joint</td>\n",
       "      <td>Caribbean Restaurant</td>\n",
       "      <td>Dessert Shop</td>\n",
       "      <td>Department Store</td>\n",
       "    </tr>\n",
       "  </tbody>\n",
       "</table>\n",
       "</div>"
      ],
      "text/plain": [
       "  Postcode 1st Most Common Venue 2nd Most Common Venue 3rd Most Common Venue  \\\n",
       "0      M1B  Fast Food Restaurant           Yoga Studio          Dance Studio   \n",
       "1      M1C                   Bar        History Museum           Yoga Studio   \n",
       "2      M1E     Electronics Store        Breakfast Spot          Intersection   \n",
       "3      M1G           Coffee Shop      Insurance Office     Korean Restaurant   \n",
       "4      M1H                Bakery                  Bank    Athletics & Sports   \n",
       "\n",
       "         4th Most Common Venue        5th Most Common Venue  \\\n",
       "0  Eastern European Restaurant                    Drugstore   \n",
       "1                 Dance Studio  Eastern European Restaurant   \n",
       "2                         Bank           Mexican Restaurant   \n",
       "3                Deli / Bodega            Electronics Store   \n",
       "4              Thai Restaurant                  Gas Station   \n",
       "\n",
       "         6th Most Common Venue 7th Most Common Venue 8th Most Common Venue  \\\n",
       "0                   Donut Shop               Dog Run   Distribution Center   \n",
       "1                    Drugstore            Donut Shop               Dog Run   \n",
       "2          Rental Car Location        Medical Center      Department Store   \n",
       "3  Eastern European Restaurant             Drugstore            Donut Shop   \n",
       "4             Hakka Restaurant   Fried Chicken Joint  Caribbean Restaurant   \n",
       "\n",
       "  9th Most Common Venue 10th Most Common Venue  \n",
       "0        Discount Store                  Diner  \n",
       "1   Distribution Center         Discount Store  \n",
       "2             Drugstore             Donut Shop  \n",
       "3               Dog Run    Distribution Center  \n",
       "4          Dessert Shop       Department Store  "
      ]
     },
     "execution_count": 249,
     "metadata": {},
     "output_type": "execute_result"
    }
   ],
   "source": [
    "num_top_venues = 10\n",
    "\n",
    "indicators = ['st', 'nd', 'rd']\n",
    "\n",
    "\n",
    "columns = ['Postcode']\n",
    "for ind in np.arange(num_top_venues):\n",
    "    try:\n",
    "        columns.append('{}{} Most Common Venue'.format(ind+1, indicators[ind]))\n",
    "    except:\n",
    "        columns.append('{}th Most Common Venue'.format(ind+1))\n",
    "\n",
    "\n",
    "postcode_venues_sorted = pd.DataFrame(columns=columns)\n",
    "postcode_venues_sorted['Postcode'] = toronto_grouped['Postcode']\n",
    "\n",
    "for ind in np.arange(toronto_grouped.shape[0]):\n",
    "    postcode_venues_sorted.iloc[ind, 1:] = return_most_common_venues(toronto_grouped.iloc[ind, :], num_top_venues)\n",
    "\n",
    "postcode_venues_sorted.head()"
   ]
  },
  {
   "cell_type": "markdown",
   "metadata": {},
   "source": [
    "# KMeans Clustering of data based off of venue types "
   ]
  },
  {
   "cell_type": "code",
   "execution_count": 300,
   "metadata": {},
   "outputs": [
    {
     "data": {
      "text/plain": [
       "array([1, 0, 0, 0, 0, 3, 0, 0, 0, 0])"
      ]
     },
     "execution_count": 300,
     "metadata": {},
     "output_type": "execute_result"
    }
   ],
   "source": [
    "from sklearn.cluster import KMeans\n",
    "\n",
    "kclusters = 4\n",
    "\n",
    "toronto_grouped_clustering = toronto_grouped.drop('Postcode', 1)\n",
    "\n",
    "kmeans = KMeans(n_clusters=kclusters, random_state=1000).fit(toronto_grouped_clustering)\n",
    "\n",
    "\n",
    "kmeans.labels_[0:10] "
   ]
  },
  {
   "cell_type": "markdown",
   "metadata": {},
   "source": [
    "### 4 clusters captured much of the variety, as many of the Postcodes fell into 2 large clusters"
   ]
  },
  {
   "cell_type": "code",
   "execution_count": 332,
   "metadata": {},
   "outputs": [
    {
     "data": {
      "text/html": [
       "<div>\n",
       "<style scoped>\n",
       "    .dataframe tbody tr th:only-of-type {\n",
       "        vertical-align: middle;\n",
       "    }\n",
       "\n",
       "    .dataframe tbody tr th {\n",
       "        vertical-align: top;\n",
       "    }\n",
       "\n",
       "    .dataframe thead th {\n",
       "        text-align: right;\n",
       "    }\n",
       "</style>\n",
       "<table border=\"1\" class=\"dataframe\">\n",
       "  <thead>\n",
       "    <tr style=\"text-align: right;\">\n",
       "      <th></th>\n",
       "      <th>Cluster Labels</th>\n",
       "      <th>Postcode</th>\n",
       "      <th>1st Most Common Venue</th>\n",
       "      <th>2nd Most Common Venue</th>\n",
       "      <th>3rd Most Common Venue</th>\n",
       "      <th>4th Most Common Venue</th>\n",
       "      <th>5th Most Common Venue</th>\n",
       "      <th>6th Most Common Venue</th>\n",
       "      <th>7th Most Common Venue</th>\n",
       "      <th>8th Most Common Venue</th>\n",
       "      <th>9th Most Common Venue</th>\n",
       "      <th>10th Most Common Venue</th>\n",
       "    </tr>\n",
       "  </thead>\n",
       "  <tbody>\n",
       "    <tr>\n",
       "      <td>0</td>\n",
       "      <td>1</td>\n",
       "      <td>M1B</td>\n",
       "      <td>Fast Food Restaurant</td>\n",
       "      <td>Yoga Studio</td>\n",
       "      <td>Dance Studio</td>\n",
       "      <td>Eastern European Restaurant</td>\n",
       "      <td>Drugstore</td>\n",
       "      <td>Donut Shop</td>\n",
       "      <td>Dog Run</td>\n",
       "      <td>Distribution Center</td>\n",
       "      <td>Discount Store</td>\n",
       "      <td>Diner</td>\n",
       "    </tr>\n",
       "    <tr>\n",
       "      <td>1</td>\n",
       "      <td>0</td>\n",
       "      <td>M1C</td>\n",
       "      <td>Bar</td>\n",
       "      <td>History Museum</td>\n",
       "      <td>Yoga Studio</td>\n",
       "      <td>Dance Studio</td>\n",
       "      <td>Eastern European Restaurant</td>\n",
       "      <td>Drugstore</td>\n",
       "      <td>Donut Shop</td>\n",
       "      <td>Dog Run</td>\n",
       "      <td>Distribution Center</td>\n",
       "      <td>Discount Store</td>\n",
       "    </tr>\n",
       "    <tr>\n",
       "      <td>2</td>\n",
       "      <td>0</td>\n",
       "      <td>M1E</td>\n",
       "      <td>Electronics Store</td>\n",
       "      <td>Breakfast Spot</td>\n",
       "      <td>Intersection</td>\n",
       "      <td>Bank</td>\n",
       "      <td>Mexican Restaurant</td>\n",
       "      <td>Rental Car Location</td>\n",
       "      <td>Medical Center</td>\n",
       "      <td>Department Store</td>\n",
       "      <td>Drugstore</td>\n",
       "      <td>Donut Shop</td>\n",
       "    </tr>\n",
       "    <tr>\n",
       "      <td>3</td>\n",
       "      <td>0</td>\n",
       "      <td>M1G</td>\n",
       "      <td>Coffee Shop</td>\n",
       "      <td>Insurance Office</td>\n",
       "      <td>Korean Restaurant</td>\n",
       "      <td>Deli / Bodega</td>\n",
       "      <td>Electronics Store</td>\n",
       "      <td>Eastern European Restaurant</td>\n",
       "      <td>Drugstore</td>\n",
       "      <td>Donut Shop</td>\n",
       "      <td>Dog Run</td>\n",
       "      <td>Distribution Center</td>\n",
       "    </tr>\n",
       "    <tr>\n",
       "      <td>4</td>\n",
       "      <td>0</td>\n",
       "      <td>M1H</td>\n",
       "      <td>Bakery</td>\n",
       "      <td>Bank</td>\n",
       "      <td>Athletics &amp; Sports</td>\n",
       "      <td>Thai Restaurant</td>\n",
       "      <td>Gas Station</td>\n",
       "      <td>Hakka Restaurant</td>\n",
       "      <td>Fried Chicken Joint</td>\n",
       "      <td>Caribbean Restaurant</td>\n",
       "      <td>Dessert Shop</td>\n",
       "      <td>Department Store</td>\n",
       "    </tr>\n",
       "  </tbody>\n",
       "</table>\n",
       "</div>"
      ],
      "text/plain": [
       "   Cluster Labels Postcode 1st Most Common Venue 2nd Most Common Venue  \\\n",
       "0               1      M1B  Fast Food Restaurant           Yoga Studio   \n",
       "1               0      M1C                   Bar        History Museum   \n",
       "2               0      M1E     Electronics Store        Breakfast Spot   \n",
       "3               0      M1G           Coffee Shop      Insurance Office   \n",
       "4               0      M1H                Bakery                  Bank   \n",
       "\n",
       "  3rd Most Common Venue        4th Most Common Venue  \\\n",
       "0          Dance Studio  Eastern European Restaurant   \n",
       "1           Yoga Studio                 Dance Studio   \n",
       "2          Intersection                         Bank   \n",
       "3     Korean Restaurant                Deli / Bodega   \n",
       "4    Athletics & Sports              Thai Restaurant   \n",
       "\n",
       "         5th Most Common Venue        6th Most Common Venue  \\\n",
       "0                    Drugstore                   Donut Shop   \n",
       "1  Eastern European Restaurant                    Drugstore   \n",
       "2           Mexican Restaurant          Rental Car Location   \n",
       "3            Electronics Store  Eastern European Restaurant   \n",
       "4                  Gas Station             Hakka Restaurant   \n",
       "\n",
       "  7th Most Common Venue 8th Most Common Venue 9th Most Common Venue  \\\n",
       "0               Dog Run   Distribution Center        Discount Store   \n",
       "1            Donut Shop               Dog Run   Distribution Center   \n",
       "2        Medical Center      Department Store             Drugstore   \n",
       "3             Drugstore            Donut Shop               Dog Run   \n",
       "4   Fried Chicken Joint  Caribbean Restaurant          Dessert Shop   \n",
       "\n",
       "  10th Most Common Venue  \n",
       "0                  Diner  \n",
       "1         Discount Store  \n",
       "2             Donut Shop  \n",
       "3    Distribution Center  \n",
       "4       Department Store  "
      ]
     },
     "execution_count": 332,
     "metadata": {},
     "output_type": "execute_result"
    }
   ],
   "source": [
    "postcode_venues_sorted.head()"
   ]
  },
  {
   "cell_type": "markdown",
   "metadata": {},
   "source": [
    "### Joining cluster labels and top 10 Common Venues with the original dataset (df), using Postcode"
   ]
  },
  {
   "cell_type": "code",
   "execution_count": 302,
   "metadata": {},
   "outputs": [
    {
     "data": {
      "text/html": [
       "<div>\n",
       "<style scoped>\n",
       "    .dataframe tbody tr th:only-of-type {\n",
       "        vertical-align: middle;\n",
       "    }\n",
       "\n",
       "    .dataframe tbody tr th {\n",
       "        vertical-align: top;\n",
       "    }\n",
       "\n",
       "    .dataframe thead th {\n",
       "        text-align: right;\n",
       "    }\n",
       "</style>\n",
       "<table border=\"1\" class=\"dataframe\">\n",
       "  <thead>\n",
       "    <tr style=\"text-align: right;\">\n",
       "      <th></th>\n",
       "      <th>Postcode</th>\n",
       "      <th>Borough</th>\n",
       "      <th>Neighbourhood</th>\n",
       "      <th>Latitude</th>\n",
       "      <th>Longitude</th>\n",
       "      <th>Cluster Labels</th>\n",
       "      <th>1st Most Common Venue</th>\n",
       "      <th>2nd Most Common Venue</th>\n",
       "      <th>3rd Most Common Venue</th>\n",
       "      <th>4th Most Common Venue</th>\n",
       "      <th>5th Most Common Venue</th>\n",
       "      <th>6th Most Common Venue</th>\n",
       "      <th>7th Most Common Venue</th>\n",
       "      <th>8th Most Common Venue</th>\n",
       "      <th>9th Most Common Venue</th>\n",
       "      <th>10th Most Common Venue</th>\n",
       "    </tr>\n",
       "  </thead>\n",
       "  <tbody>\n",
       "    <tr>\n",
       "      <td>0</td>\n",
       "      <td>M9N</td>\n",
       "      <td>York</td>\n",
       "      <td>Weston</td>\n",
       "      <td>43.706876</td>\n",
       "      <td>-79.518188</td>\n",
       "      <td>2.0</td>\n",
       "      <td>Park</td>\n",
       "      <td>Convenience Store</td>\n",
       "      <td>Curling Ice</td>\n",
       "      <td>Drugstore</td>\n",
       "      <td>Donut Shop</td>\n",
       "      <td>Dog Run</td>\n",
       "      <td>Distribution Center</td>\n",
       "      <td>Discount Store</td>\n",
       "      <td>Diner</td>\n",
       "      <td>Dim Sum Restaurant</td>\n",
       "    </tr>\n",
       "    <tr>\n",
       "      <td>1</td>\n",
       "      <td>M1W</td>\n",
       "      <td>Scarborough</td>\n",
       "      <td>Steeles West , L'Amoreaux West</td>\n",
       "      <td>43.799525</td>\n",
       "      <td>-79.318389</td>\n",
       "      <td>0.0</td>\n",
       "      <td>Fast Food Restaurant</td>\n",
       "      <td>Chinese Restaurant</td>\n",
       "      <td>Coffee Shop</td>\n",
       "      <td>Pharmacy</td>\n",
       "      <td>Discount Store</td>\n",
       "      <td>Sandwich Place</td>\n",
       "      <td>Supermarket</td>\n",
       "      <td>Bank</td>\n",
       "      <td>Pizza Place</td>\n",
       "      <td>Breakfast Spot</td>\n",
       "    </tr>\n",
       "    <tr>\n",
       "      <td>2</td>\n",
       "      <td>M4E</td>\n",
       "      <td>East Toronto</td>\n",
       "      <td>The Beaches</td>\n",
       "      <td>43.676357</td>\n",
       "      <td>-79.293031</td>\n",
       "      <td>0.0</td>\n",
       "      <td>Trail</td>\n",
       "      <td>Park</td>\n",
       "      <td>Neighborhood</td>\n",
       "      <td>Pub</td>\n",
       "      <td>Health Food Store</td>\n",
       "      <td>Yoga Studio</td>\n",
       "      <td>Dance Studio</td>\n",
       "      <td>Deli / Bodega</td>\n",
       "      <td>Department Store</td>\n",
       "      <td>Dim Sum Restaurant</td>\n",
       "    </tr>\n",
       "    <tr>\n",
       "      <td>3</td>\n",
       "      <td>M5G</td>\n",
       "      <td>Downtown Toronto</td>\n",
       "      <td>Central Bay Street</td>\n",
       "      <td>43.657952</td>\n",
       "      <td>-79.387383</td>\n",
       "      <td>0.0</td>\n",
       "      <td>Coffee Shop</td>\n",
       "      <td>Café</td>\n",
       "      <td>Italian Restaurant</td>\n",
       "      <td>Yoga Studio</td>\n",
       "      <td>Sandwich Place</td>\n",
       "      <td>Bubble Tea Shop</td>\n",
       "      <td>Spa</td>\n",
       "      <td>Ice Cream Shop</td>\n",
       "      <td>Bar</td>\n",
       "      <td>Hotel</td>\n",
       "    </tr>\n",
       "    <tr>\n",
       "      <td>4</td>\n",
       "      <td>M6K</td>\n",
       "      <td>West Toronto</td>\n",
       "      <td>Brockton , Parkdale Village , Exhibition Place</td>\n",
       "      <td>43.636847</td>\n",
       "      <td>-79.428191</td>\n",
       "      <td>0.0</td>\n",
       "      <td>Café</td>\n",
       "      <td>Breakfast Spot</td>\n",
       "      <td>Nightclub</td>\n",
       "      <td>Coffee Shop</td>\n",
       "      <td>Stadium</td>\n",
       "      <td>Bar</td>\n",
       "      <td>Bakery</td>\n",
       "      <td>Restaurant</td>\n",
       "      <td>Intersection</td>\n",
       "      <td>Convenience Store</td>\n",
       "    </tr>\n",
       "  </tbody>\n",
       "</table>\n",
       "</div>"
      ],
      "text/plain": [
       "  Postcode           Borough                                   Neighbourhood  \\\n",
       "0      M9N              York                                          Weston   \n",
       "1      M1W       Scarborough                  Steeles West , L'Amoreaux West   \n",
       "2      M4E      East Toronto                                     The Beaches   \n",
       "3      M5G  Downtown Toronto                              Central Bay Street   \n",
       "4      M6K      West Toronto  Brockton , Parkdale Village , Exhibition Place   \n",
       "\n",
       "    Latitude  Longitude  Cluster Labels 1st Most Common Venue  \\\n",
       "0  43.706876 -79.518188             2.0                  Park   \n",
       "1  43.799525 -79.318389             0.0  Fast Food Restaurant   \n",
       "2  43.676357 -79.293031             0.0                 Trail   \n",
       "3  43.657952 -79.387383             0.0           Coffee Shop   \n",
       "4  43.636847 -79.428191             0.0                  Café   \n",
       "\n",
       "  2nd Most Common Venue 3rd Most Common Venue 4th Most Common Venue  \\\n",
       "0     Convenience Store           Curling Ice             Drugstore   \n",
       "1    Chinese Restaurant           Coffee Shop              Pharmacy   \n",
       "2                  Park          Neighborhood                   Pub   \n",
       "3                  Café    Italian Restaurant           Yoga Studio   \n",
       "4        Breakfast Spot             Nightclub           Coffee Shop   \n",
       "\n",
       "  5th Most Common Venue 6th Most Common Venue 7th Most Common Venue  \\\n",
       "0            Donut Shop               Dog Run   Distribution Center   \n",
       "1        Discount Store        Sandwich Place           Supermarket   \n",
       "2     Health Food Store           Yoga Studio          Dance Studio   \n",
       "3        Sandwich Place       Bubble Tea Shop                   Spa   \n",
       "4               Stadium                   Bar                Bakery   \n",
       "\n",
       "  8th Most Common Venue 9th Most Common Venue 10th Most Common Venue  \n",
       "0        Discount Store                 Diner     Dim Sum Restaurant  \n",
       "1                  Bank           Pizza Place         Breakfast Spot  \n",
       "2         Deli / Bodega      Department Store     Dim Sum Restaurant  \n",
       "3        Ice Cream Shop                   Bar                  Hotel  \n",
       "4            Restaurant          Intersection      Convenience Store  "
      ]
     },
     "execution_count": 302,
     "metadata": {},
     "output_type": "execute_result"
    }
   ],
   "source": [
    "\n",
    "#postcode_venues_sorted.insert(0, 'Cluster Labels', kmeans.labels_)\n",
    "postcode_venues_sorted['Cluster Labels'] = kmeans.labels_\n",
    "\n",
    "df_merged = df\n",
    "\n",
    "\n",
    "df_merged = df_merged.join(postcode_venues_sorted.set_index('Postcode'), on='Postcode')\n",
    "\n",
    "df_merged.head() "
   ]
  },
  {
   "cell_type": "markdown",
   "metadata": {},
   "source": [
    "### Filled NA's (caused by API not returning values for Postcodes) and transforming columns to Integer "
   ]
  },
  {
   "cell_type": "code",
   "execution_count": 304,
   "metadata": {},
   "outputs": [],
   "source": [
    "df_merged['Cluster Labels'].fillna(0, inplace = True)\n",
    "df_merged['Cluster Labels'] = df_merged['Cluster Labels'].astype(int) "
   ]
  },
  {
   "cell_type": "code",
   "execution_count": 305,
   "metadata": {},
   "outputs": [
    {
     "data": {
      "text/html": [
       "<div style=\"width:100%;\"><div style=\"position:relative;width:100%;height:0;padding-bottom:60%;\"><iframe src=\"about:blank\" style=\"position:absolute;width:100%;height:100%;left:0;top:0;border:none !important;\" data-html=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 onload=\"this.contentDocument.open();this.contentDocument.write(atob(this.getAttribute('data-html')));this.contentDocument.close();\" allowfullscreen webkitallowfullscreen mozallowfullscreen></iframe></div></div>"
      ],
      "text/plain": [
       "<folium.folium.Map at 0x244632cf048>"
      ]
     },
     "execution_count": 305,
     "metadata": {},
     "output_type": "execute_result"
    }
   ],
   "source": [
    "import matplotlib.cm as cm\n",
    "import matplotlib.colors as colors\n",
    "\n",
    "\n",
    "map_clusters = folium.Map(location=[latitude, longitude], zoom_start=11)\n",
    "\n",
    "\n",
    "x = np.arange(kclusters)\n",
    "ys = [i + x + (i*x)**2 for i in range(kclusters)]\n",
    "colors_array = cm.rainbow(np.linspace(0, 1, len(ys)))\n",
    "rainbow = [colors.rgb2hex(i) for i in colors_array]\n",
    "\n",
    "\n",
    "markers_colors = []\n",
    "for lat, lon, poi, cluster in zip(df_merged['Latitude'], df_merged['Longitude'], df_merged['Postcode'], df_merged['Cluster Labels']):\n",
    "    label = folium.Popup(str(poi) + ' Cluster ' + str(cluster), parse_html=True)\n",
    "    folium.CircleMarker(\n",
    "        [lat, lon],\n",
    "        radius=5,\n",
    "        popup=label,\n",
    "        color=rainbow[cluster-1],\n",
    "        fill=True,\n",
    "        fill_color=rainbow[cluster-1],\n",
    "        fill_opacity=0.7).add_to(map_clusters)\n",
    "       \n",
    "map_clusters"
   ]
  },
  {
   "cell_type": "markdown",
   "metadata": {},
   "source": [
    "### Cluster 0 and Cluster 2 are the largest Postcodes"
   ]
  },
  {
   "cell_type": "markdown",
   "metadata": {},
   "source": [
    "# Cluster Analysis"
   ]
  },
  {
   "cell_type": "markdown",
   "metadata": {},
   "source": [
    "### You can see that Cluster_0 consists of coffee shops and cafe's - 28 out of  49 cluster points"
   ]
  },
  {
   "cell_type": "code",
   "execution_count": 331,
   "metadata": {},
   "outputs": [
    {
     "data": {
      "text/plain": [
       "Coffee Shop                  15\n",
       "Café                         13\n",
       "Pizza Place                   8\n",
       "Grocery Store                 4\n",
       "Restaurant                    2\n",
       "Fast Food Restaurant          2\n",
       "Bar                           2\n",
       "Indian Restaurant             2\n",
       "Clothing Store                2\n",
       "Baseball Field                2\n",
       "Italian Restaurant            2\n",
       "Auto Garage                   1\n",
       "Light Rail Station            1\n",
       "Garden                        1\n",
       "Dance Studio                  1\n",
       "Bakery                        1\n",
       "Pub                           1\n",
       "Liquor Store                  1\n",
       "Drugstore                     1\n",
       "Japanese Restaurant           1\n",
       "Electronics Store             1\n",
       "Food Truck                    1\n",
       "Dessert Shop                  1\n",
       "Sporting Goods Shop           1\n",
       "Plaza                         1\n",
       "Golf Course                   1\n",
       "Airport Service               1\n",
       "Latin American Restaurant     1\n",
       "Pharmacy                      1\n",
       "American Restaurant           1\n",
       "Greek Restaurant              1\n",
       "Trail                         1\n",
       "General Entertainment         1\n",
       "Martial Arts Dojo             1\n",
       "Farmers Market                1\n",
       "Home Service                  1\n",
       "Beer Bar                      1\n",
       "Skating Rink                  1\n",
       "Bus Line                      1\n",
       "Mexican Restaurant            1\n",
       "Ramen Restaurant              1\n",
       "Gift Shop                     1\n",
       "Name: 1st Most Common Venue, dtype: int64"
      ]
     },
     "execution_count": 331,
     "metadata": {},
     "output_type": "execute_result"
    }
   ],
   "source": [
    "cluster_0 = df_merged.loc[df_merged['Cluster Labels'] == 0, df_merged.columns[[0] + list(range(5, df_merged.shape[1]))]]\n",
    "\n",
    "\n",
    "cluster_0.iloc[:,2].value_counts()"
   ]
  },
  {
   "cell_type": "markdown",
   "metadata": {},
   "source": [
    "### You can see that Cluster_2 is entirely park areas"
   ]
  },
  {
   "cell_type": "code",
   "execution_count": 329,
   "metadata": {},
   "outputs": [
    {
     "data": {
      "text/plain": [
       "Park    12\n",
       "Name: 1st Most Common Venue, dtype: int64"
      ]
     },
     "execution_count": 329,
     "metadata": {},
     "output_type": "execute_result"
    }
   ],
   "source": [
    "cluster_2 = df_merged.loc[df_merged['Cluster Labels'] == 2, df_merged.columns[[0] + list(range(5, df_merged.shape[1]))]]\n",
    "cluster_2.iloc[:,2].value_counts()"
   ]
  },
  {
   "cell_type": "code",
   "execution_count": null,
   "metadata": {},
   "outputs": [],
   "source": []
  }
 ],
 "metadata": {
  "kernelspec": {
   "display_name": "Python 3",
   "language": "python",
   "name": "python3"
  },
  "language_info": {
   "codemirror_mode": {
    "name": "ipython",
    "version": 3
   },
   "file_extension": ".py",
   "mimetype": "text/x-python",
   "name": "python",
   "nbconvert_exporter": "python",
   "pygments_lexer": "ipython3",
   "version": "3.7.4"
  }
 },
 "nbformat": 4,
 "nbformat_minor": 2
}
